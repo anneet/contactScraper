{
 "cells": [
  {
   "cell_type": "code",
   "execution_count": 2,
   "metadata": {},
   "outputs": [],
   "source": [
    "import contactScraper\n",
    "\n",
    "import sys, os\n",
    "import certifi\n",
    "import pandas as pd\n",
    "\n",
    "import requests\n",
    "from requests.adapters import HTTPAdapter\n",
    "from requests.packages.urllib3.util.retry import Retry\n"
   ]
  },
  {
   "cell_type": "code",
   "execution_count": 3,
   "metadata": {},
   "outputs": [],
   "source": [
    "s = requests.session()\n",
    "s.verify = certifi.core.where()\n",
    "\n",
    "retry = Retry(connect=3, backoff_factor=1)\n",
    "adapter = HTTPAdapter(max_retries=retry)\n",
    "s.mount('http://', adapter)\n",
    "s.mount('https://', adapter)\n",
    "\n",
    "s.keep_alive = False # disable keep alive\n",
    "\n",
    "\n",
    "\n",
    "url = 'https://norcalpremier.com'\n",
    "start = '/clubs'"
   ]
  },
  {
   "cell_type": "code",
   "execution_count": 4,
   "metadata": {},
   "outputs": [
    {
     "name": "stdout",
     "output_type": "stream",
     "text": [
      "Getting Team URLs\n",
      "100% Complete!\n",
      "Total teams found: 8471"
     ]
    }
   ],
   "source": [
    "testTeamURLS = contactScraper.getTeamUrls(start,url,s)\n",
    "testContacts = contactScraper.getContact(url+testTeamURLS[1],s)\n"
   ]
  },
  {
   "cell_type": "code",
   "execution_count": 21,
   "metadata": {},
   "outputs": [],
   "source": [
    "def test_greeting():\n",
    "    contactScraper.greeting()\n",
    "    sys.stdout.write(\"\\n\")\n",
    "\n",
    "\n",
    "def test_TeamURLs():\n",
    "    assert type(testTeamURLS) == list\n",
    "    assert all(isinstance(item, str) for item in testTeamURLS)\n",
    "\n",
    "\n",
    "\n",
    "def test_getContacts():\n",
    "    sys.stdout.write(\"\\n\")\n",
    "    assert type(testContacts) == dict\n",
    "    assert all(isinstance(item, str) for item in testContacts['Team Name'])\n",
    "    assert all(isinstance(item, str) for item in testContacts['Contact Name'])\n",
    "    assert all(isinstance(item, str) for item in testContacts['Contact Email'])\n",
    "    assert all(isinstance(item, str) for item in testContacts['URL'])\n",
    "\n",
    "def test_makeDF():\n",
    "    df = contactScraper.makeDF(testTeamURLS[0:5],url,s)\n",
    "    assert type(df) == pd.core.frame.DataFrame"
   ]
  },
  {
   "cell_type": "code",
   "execution_count": 22,
   "metadata": {},
   "outputs": [
    {
     "name": "stdout",
     "output_type": "stream",
     "text": [
      "\n",
      "Hello! This program has 3 steps\n",
      "1.URL gathering\n",
      "2.Contact parsing \n",
      "3.Exporting \n",
      "Because of the large amount of contacts, this may take a while and I may need to take a few breaks in between \n",
      "I'll let you know when the breaks occur. Now let's get to work! \n",
      "\n",
      "\n",
      "Getting contact information\n",
      "Please wait...\n",
      "Parsing team 5 out of 5. Number of contacts is now 27\n",
      "All contacts parsed\n"
     ]
    }
   ],
   "source": [
    "if __name__ == '__main__':\n",
    "    test_greeting()\n",
    "    test_TeamURLs()\n",
    "    test_getContacts()\n",
    "    test_makeDF()"
   ]
  }
 ],
 "metadata": {
  "kernelspec": {
   "display_name": "Python 3",
   "language": "python",
   "name": "python3"
  },
  "language_info": {
   "codemirror_mode": {
    "name": "ipython",
    "version": 3
   },
   "file_extension": ".py",
   "mimetype": "text/x-python",
   "name": "python",
   "nbconvert_exporter": "python",
   "pygments_lexer": "ipython3",
   "version": "3.10.11"
  },
  "orig_nbformat": 4
 },
 "nbformat": 4,
 "nbformat_minor": 2
}
